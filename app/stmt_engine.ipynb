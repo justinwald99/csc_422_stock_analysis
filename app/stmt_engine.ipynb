{
 "metadata": {
  "language_info": {
   "codemirror_mode": {
    "name": "ipython",
    "version": 3
   },
   "file_extension": ".py",
   "mimetype": "text/x-python",
   "name": "python",
   "nbconvert_exporter": "python",
   "pygments_lexer": "ipython3",
   "version": "3.8.3-final"
  },
  "orig_nbformat": 2,
  "kernelspec": {
   "name": "Python 3.8.3 64-bit (conda)",
   "display_name": "Python 3.8.3 64-bit (conda)",
   "metadata": {
    "interpreter": {
     "hash": "a1a58d6818cae4c9eff33a62427e675ba951136eec29702b55aa0d87c94006f6"
    }
   }
  }
 },
 "nbformat": 4,
 "nbformat_minor": 2,
 "cells": [
  {
   "source": [
    "# File:   stmt_engine.py\n",
    "# Author: Colin Szatkowski\n",
    "# Runs sentiment analysis on the twitter data using the Naive Bayes model"
   ],
   "cell_type": "code",
   "metadata": {},
   "execution_count": null,
   "outputs": []
  },
  {
   "source": [
    "import pandas as pd\n",
    "import numpy as np\n",
    "import re\n",
    "import string\n",
    "from nltk.corpus import stopwords\n",
    "from nltk.tokenize import word_tokenize\n",
    "from sklearn.feature_extraction.text import TfidfVectorizer\n",
    "from sklearn.model_selection import train_test_split\n",
    "from nltk.stem import PorterStemmer\n",
    "# Machine Learning Libraries\n",
    "from sklearn.metrics import accuracy_score\n",
    "from sklearn.naive_bayes import MultinomialNB\n",
    "from sklearn.linear_model import LogisticRegression\n",
    "from sklearn.linear_model import LinearRegression\n",
    "from sklearn.svm import SVC\n",
    "\n",
    "# Stop word for data preprocessing\n",
    "stop_words = set(stopwords.words('english'))"
   ],
   "cell_type": "code",
   "metadata": {},
   "execution_count": 7,
   "outputs": []
  },
  {
   "cell_type": "code",
   "execution_count": 8,
   "metadata": {},
   "outputs": [],
   "source": [
    "# Loads the dataset using utf-8 encoding\n",
    "def load_dataset_utf(filename, cols):\n",
    "    dataset = pd.read_csv(filename, encoding='utf-8')\n",
    "    dataset.columns = cols\n",
    "    return dataset"
   ]
  },
  {
   "cell_type": "code",
   "execution_count": 9,
   "metadata": {},
   "outputs": [],
   "source": [
    "# Loads the dataset using latin-1 encoding\n",
    "def load_dataset_latin1(filename, cols):\n",
    "    dataset = pd.read_csv(filename, encoding='latin-1')\n",
    "    dataset.columns = cols\n",
    "    return dataset"
   ]
  },
  {
   "cell_type": "code",
   "execution_count": 10,
   "metadata": {},
   "outputs": [],
   "source": [
    "# Deletes columns from the dataset \n",
    "def remove_unwanted_cols(dataset, cols):\n",
    "    for col in cols:\n",
    "        del dataset[col]\n",
    "    return dataset"
   ]
  },
  {
   "cell_type": "code",
   "execution_count": 11,
   "metadata": {},
   "outputs": [],
   "source": [
    "# Preprocesses the tweets to delete urls, @'s, stopwords, etc.\n",
    "def preprocess_tweet_text(tweet):\n",
    "    tweet.lower()\n",
    "    # Remove urls\n",
    "    tweet = re.sub(r\"http\\S+|www\\S+|https\\S+\", '', tweet, flags=re.MULTILINE)\n",
    "    # Remove user @ references and '#' from tweet\n",
    "    tweet = re.sub(r'\\@\\w+|\\#','', tweet)\n",
    "    # Remove punctuations\n",
    "    tweet = tweet.translate(str.maketrans('', '', string.punctuation))\n",
    "    # Remove stopwords\n",
    "    tweet_tokens = word_tokenize(tweet)\n",
    "    filtered_words = [w for w in tweet_tokens if not w in stop_words]\n",
    "    \n",
    "    # Stems the tweet\n",
    "    ps = PorterStemmer()\n",
    "    stemmed_words = [ps.stem(w) for w in filtered_words]\n",
    "\n",
    "    return \" \".join(filtered_words)"
   ]
  },
  {
   "cell_type": "code",
   "execution_count": 12,
   "metadata": {},
   "outputs": [],
   "source": [
    "# Converts the tokens to numbers using vectorizing\n",
    "def get_feature_vector(train_fit):\n",
    "    vector = TfidfVectorizer(sublinear_tf=True)\n",
    "    vector.fit(train_fit)\n",
    "    return vector"
   ]
  },
  {
   "cell_type": "code",
   "execution_count": 13,
   "metadata": {},
   "outputs": [],
   "source": [
    "# Converts integer value of sentiment to more easily readable string form\n",
    "def int_to_string(sentiment):\n",
    "    if sentiment == 0:\n",
    "        return \"Negative\"\n",
    "    elif sentiment == 2:\n",
    "        return \"Neutral\"\n",
    "    else:\n",
    "        return \"Positive\""
   ]
  },
  {
   "cell_type": "code",
   "execution_count": 14,
   "metadata": {
    "tags": []
   },
   "outputs": [
    {
     "output_type": "stream",
     "name": "stdout",
     "text": [
      "Now loading dataset\n",
      "Now removing unwanted columns\n",
      "Now processing unpreprocessed data\n"
     ]
    }
   ],
   "source": [
    "# Load dataset\n",
    "print(\"Now loading dataset\")\n",
    "dataset = load_dataset_latin1(\"training.csv\", ['target', 't_id', 'created_at', 'query', 'user', 'text'])\n",
    "# Remove unwanted columns from dataset\n",
    "print(\"Now removing unwanted columns\")\n",
    "#n_dataset = remove_unwanted_cols(dataset, ['t_id', 'created_at', 'query', 'user'])\n",
    "n_dataset = remove_unwanted_cols(dataset, ['t_id', 'created_at', 'query', 'user'])\n",
    "# Preprocess data\n",
    "print(\"Now processing unpreprocessed data\")\n",
    "dataset.text = dataset['text'].apply(preprocess_tweet_text)"
   ]
  },
  {
   "cell_type": "code",
   "execution_count": 19,
   "metadata": {},
   "outputs": [
    {
     "output_type": "stream",
     "name": "stdout",
     "text": [
      "Now processing preprocessed data\n",
      "Naive Bayes accuracy score:\n",
      "0.768521875\n",
      "Logistics regression accuracy score:\n",
      "0.7877875\n"
     ]
    }
   ],
   "source": [
    "# Split dataset into train and test sets\n",
    "print(\"Now processing preprocessed data\")\n",
    "\n",
    "# Finds the feature vector and splits the sample tweet data set into a training and test split 80:20\n",
    "tf_vector = get_feature_vector(np.array(dataset.iloc[:, 1]).ravel())\n",
    "X = tf_vector.transform(np.array(dataset.iloc[:, 1]).ravel())\n",
    "y = np.array(dataset.iloc[:, 0]).ravel()\n",
    "X_train, X_test, y_train, y_test = train_test_split(X, y, test_size=0.2, random_state=30)\n",
    "\n",
    "# Naive Bayes model\n",
    "NB_model = MultinomialNB()\n",
    "NB_model.fit(X_train, y_train)\n",
    "y_predict_nb = NB_model.predict(X_test)\n",
    "print(\"Naive Bayes accuracy score:\")\n",
    "print(accuracy_score(y_test, y_predict_nb))\n",
    "\n",
    "# Training Logistics Regression model\n",
    "#LogR_model = LogisticRegression(solver='lbfgs')\n",
    "#LogR_model.fit(X_train, y_train)\n",
    "#y_predict_log_r = LogR_model.predict(X_test)\n",
    "#print(\"Logistics regression accuracy score:\")\n",
    "#print(accuracy_score(y_test, y_predict_log_r))\n",
    "\n",
    "# Training Linear Regression model\n",
    "#print(\"Starting Linear Regression\")\n",
    "#LinR_model = LinearRegression()\n",
    "#LinR_model.fit(X_train, y_train)\n",
    "#y_predict_lin_r = LinR_model.predict(X_test)\n",
    "#print(\"Linear regression accuracy score:\")\n",
    "#print(accuracy_score(y_test, y_predict_lin_r))"
   ]
  },
  {
   "cell_type": "code",
   "execution_count": 29,
   "metadata": {},
   "outputs": [],
   "source": [
    "#ticker_name may be changed to generate sentiment analysis for any tweet\n",
    "ticker_name = \"goog\"\n",
    "test_file_name = f\"{ticker_name}_twt.csv\"\n",
    "test_ds = load_dataset_utf(test_file_name, [\"id\", \"date\", \"class\", \"percent\", \"text\"])\n",
    "test_ds = remove_unwanted_cols(test_ds, [\"id\", \"percent\"])\n",
    "\n",
    "# Creates text feature\n",
    "test_ds.text = test_ds[\"text\"].apply(preprocess_tweet_text)\n",
    "test_feature = tf_vector.transform(np.array(test_ds[\"text\"]).ravel())\n",
    "\n",
    "# Uses Naive Bayes model for prediction\n",
    "test_prediction = NB_model.predict(test_feature)\n",
    "\n",
    "# Exports the results to a .csv file\n",
    "test_result_ds = pd.DataFrame({'date': test_ds[\"date\"], 'class': test_ds[\"class\"], 'sentiment':test_prediction, 'text': test_ds[\"text\"]})\n",
    "test_result_ds.sentiment = test_result_ds['sentiment'].apply(int_to_string)\n",
    "test_result_ds.to_csv(f\"{ticker_name}_stmt.csv\", index=True, index_label='id')\n",
    "#print(test_result_ds)"
   ]
  },
  {
   "cell_type": "code",
   "execution_count": null,
   "metadata": {},
   "outputs": [],
   "source": []
  }
 ]
}